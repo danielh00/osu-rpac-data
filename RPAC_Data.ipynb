{
  "nbformat": 4,
  "nbformat_minor": 0,
  "metadata": {
    "colab": {
      "provenance": [],
      "authorship_tag": "ABX9TyO7JwbJC4lwbl4imYFDXYpM"
    },
    "kernelspec": {
      "name": "python3",
      "display_name": "Python 3"
    },
    "language_info": {
      "name": "python"
    }
  },
  "cells": [
    {
      "cell_type": "code",
      "source": [
        "from datetime import *\n",
        "# import urllib library\n",
        "from urllib.request import urlopen\n",
        "import json\n",
        "from tabulate import tabulate\n",
        "\n",
        "# Get the current day\n",
        "now = datetime.now().replace(hour=0, minute=0, second=0)\n",
        "\n",
        "# Format the current time as a string in the desired format\n",
        "time_string = now.strftime(\"%Y-%m-%dT%H:%M:%S\")\n",
        "event_start = now.strftime(\"%-m/%-d/%Y\")\n",
        "\n",
        "url = \"https://recsports.osu.edu/fms/Home/GetBookings?id=3&startDate=\" + str(now.month) + \"%2F\" + str(now.day) + \"%2F\"+ str(now.year) +\"&endDate=\" + str(now.month) + \"%2F\" + str(now.day) + \"%2F\"+ str(now.year)\n",
        "capacity_url = \"https://recsports.osu.edu/fms/Home/GetLocations?locationCode=rpac\"\n",
        "# store the response of URL\n",
        "response = urlopen(url)\n",
        "response_capacity = urlopen(capacity_url)\n",
        "\n",
        "# storing the JSON response \n",
        "# from url in data\n",
        "data = json.loads(response.read())\n",
        "data_capacity = json.loads(response_capacity.read())\n",
        "\n",
        "# print the json response\n",
        "# print(data)\n",
        "\n",
        "relevant_ids = []\n",
        "relevant_ids.extend([310, 441, 442]) #UG\n",
        "relevant_ids.extend([305, 439, 440]) #TWD\n",
        "relevant_ids.extend([315]) #North Gym\n",
        "relevant_ids.extend([318]) #South Gym\n",
        "\n",
        "rel_data = []\n",
        "\n",
        "for row in data['events']:\n",
        "  if row['eventStart'] != event_start:\n",
        "    break\n",
        "  if int(row['roomID']) not in relevant_ids:\n",
        "    continue\n",
        "  rel_data.append([row['room']['room'],row['bookingStart'],row['bookingEnd'],row['eventName']])\n",
        "\n",
        "event_headers = ['Location', 'Start', 'End', 'Event']\n",
        "rel_data.sort(key=lambda x: x[0])\n",
        "\n",
        "print(tabulate(rel_data, headers=event_headers))\n",
        "\n",
        "print(\"\")\n",
        "\n",
        "relevant_loc_ids = [3895, 3896, 3888, 5395, 3875, 5396]\n",
        "\n",
        "cap_data = []\n",
        "for row in data_capacity['locations']:\n",
        "  if int(row['locationId']) not in relevant_loc_ids:\n",
        "    continue\n",
        "  cap_data.append([row['locationName'], row['lastUpdatedDateAndTimeToUniversityFormat'], row['lastCount']])\n",
        "\n",
        "cap_headers = ['Location', 'Updated', 'Count']\n",
        "\n",
        "print(tabulate(cap_data, headers=cap_headers))\n",
        "\n"
      ],
      "metadata": {
        "colab": {
          "base_uri": "https://localhost:8080/"
        },
        "id": "FmuGXMpRY6vN",
        "outputId": "12586ce1-831e-4dbf-cc4c-7f5bde697429"
      },
      "execution_count": null,
      "outputs": [
        {
          "output_type": "stream",
          "name": "stdout",
          "text": [
            "Location    Start      End        Event\n",
            "----------  ---------  ---------  -------------------------------------\n",
            "North Gym   5:30 a.m.  7:30 a.m.  Open Rec Pickle Ball\n",
            "North Gym   4 p.m.     midnight   Open Rec Badminton\n",
            "South Gym   5:30 a.m.  7:30 a.m.  DHS -  Army Physical Fitness Training\n",
            "South Gym   7 p.m.     midnight   Open Rec Futsal\n",
            "TWD         5:30 a.m.  midnight   Open Rec Basketball\n",
            "UG #1-2     4:30 p.m.  midnight   Open Rec Basketball\n",
            "UG #3-4     4 p.m.     5:30 p.m.  Buckeye Pickleball Club\n",
            "UG #3-4     6 p.m.     midnight   Open Rec Basketball\n",
            "Upper Gym   5:30 a.m.  7:30 a.m.  DHS -  Army Physical Fitness Training\n",
            "\n",
            "Location                     Updated      Count\n",
            "---------------------------  ---------  -------\n",
            "RPAC North Gym               3:29 p.m.        6\n",
            "RPAC South Gym               3:29 p.m.        0\n",
            "RPAC TWD Gym Courts 1-2      3:28 p.m.       20\n",
            "RPAC TWD Gym Courts 3 - 4    3:28 p.m.       20\n",
            "RPAC Upper Gym Courts 1 - 2  3:28 p.m.       20\n",
            "RPAC Upper Gym Courts 3 - 4  3:28 p.m.        3\n"
          ]
        }
      ]
    }
  ]
}